{
 "cells": [
  {
   "cell_type": "markdown",
   "metadata": {},
   "source": [
    "## Homework8_Solution "
   ]
  },
  {
   "cell_type": "markdown",
   "metadata": {},
   "source": [
    "1) Define a function with f = (w0-2)^2 + 2(w1-3)^2 + 3(w2-1)^2-4 \n",
    "\n",
    "2) Write your own code for Momentum (1999) algorithm in the class with alpha = 0.3, myu = 0.1 ## learning rate\n",
    "\n",
    "3) Use the numerical_gradient used in this class\n",
    "\n",
    "4) Find the w corresponding to minimum value of f.\n",
    "\n",
    "5) Use initial condition w = [5, 5, 5]. Error_criteria = 1.e-6\n",
    "\n",
    "6) Report your number of iterations, and numerically obtained w."
   ]
  },
  {
   "cell_type": "code",
   "execution_count": 1,
   "metadata": {},
   "outputs": [],
   "source": [
    "import numpy as np"
   ]
  },
  {
   "cell_type": "code",
   "execution_count": 2,
   "metadata": {},
   "outputs": [],
   "source": [
    "def function(x):\n",
    "    return (x[0]-2)**2 + 2*(x[1]-3)**2 + 3*(x[2]-1)**2-4"
   ]
  },
  {
   "cell_type": "code",
   "execution_count": 3,
   "metadata": {},
   "outputs": [],
   "source": [
    "alpha=0.3\n",
    "myu = 0.1\n",
    "iter_max=100000\n",
    "w0 = np.array([5,5,5]) "
   ]
  },
  {
   "cell_type": "code",
   "execution_count": 4,
   "metadata": {},
   "outputs": [],
   "source": [
    "def numerical_gradient(function,x):\n",
    "    h = 1.0e-4\n",
    "    grad = np.zeros_like(x)\n",
    "    x_temp = x.copy()\n",
    "    for i in range(x.size):\n",
    "        x_temp[i] = x[i] - h\n",
    "        f1 = function(x_temp)\n",
    "        x_temp[i] = x[i] + h\n",
    "        f2 = function(x_temp)\n",
    "        grad[i] = (f2 - f1) / (2*h)\n",
    "    return grad"
   ]
  },
  {
   "cell_type": "code",
   "execution_count": 5,
   "metadata": {},
   "outputs": [
    {
     "name": "stdout",
     "output_type": "stream",
     "text": [
      "iter:32, Res:6.313482946552853e-07, w:[1.99880983 2.99997916 1.00003721]\n"
     ]
    }
   ],
   "source": [
    "w = w0 ## randomly picks\n",
    "for i in range(iter_max):\n",
    "    if i == 0 :\n",
    "        d_w = 0\n",
    "    w_old = w\n",
    "    w = w - myu*numerical_gradient(function,w) + alpha*d_w\n",
    "    \n",
    "    d_w = w -w_old \n",
    "    residual = np.sum((w-w_old)**2)       \n",
    "    if residual < 1.0e-6:\n",
    "        print(\"iter:{iteration}, Res:{res}, w:{weight}\".format(iteration=i, res=residual, weight=w))\n",
    "        break"
   ]
  },
  {
   "cell_type": "code",
   "execution_count": null,
   "metadata": {},
   "outputs": [],
   "source": []
  }
 ],
 "metadata": {
  "kernelspec": {
   "display_name": "Python 3 (ipykernel)",
   "language": "python",
   "name": "python3"
  },
  "language_info": {
   "codemirror_mode": {
    "name": "ipython",
    "version": 3
   },
   "file_extension": ".py",
   "mimetype": "text/x-python",
   "name": "python",
   "nbconvert_exporter": "python",
   "pygments_lexer": "ipython3",
   "version": "3.9.7"
  }
 },
 "nbformat": 4,
 "nbformat_minor": 4
}
