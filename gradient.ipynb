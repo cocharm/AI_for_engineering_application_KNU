{
 "cells": [
  {
   "cell_type": "code",
   "execution_count": 1,
   "id": "f0e7804b",
   "metadata": {},
   "outputs": [],
   "source": [
    "import pandas as pd\n",
    "import numpy as np\n",
    "import matplotlib.pylab as plt"
   ]
  },
  {
   "cell_type": "markdown",
   "id": "63e17298",
   "metadata": {},
   "source": [
    "e minimum ==> de/dw = 0, w를 찾으면 됨.\n",
    "\n",
    "w = w - myu*de/dw : learning rate"
   ]
  },
  {
   "cell_type": "markdown",
   "id": "4a292f0b",
   "metadata": {},
   "source": [
    "e = 1/N * sigma (y_actual - y_pred)^2"
   ]
  },
  {
   "cell_type": "markdown",
   "id": "0669f08f",
   "metadata": {},
   "source": [
    "e = 0.1 * w^2 + w\n",
    "\n",
    "de/dw = 0 = 0.2 *w +1 = 0\n",
    "\n",
    "w = -5 (Analytical solution)"
   ]
  },
  {
   "cell_type": "code",
   "execution_count": 2,
   "id": "64d0afc3",
   "metadata": {
    "scrolled": true
   },
   "outputs": [],
   "source": [
    "def error(w):\n",
    "    return 0.1 * w**2 + w\n"
   ]
  },
  {
   "cell_type": "code",
   "execution_count": 3,
   "id": "0192e9fd",
   "metadata": {},
   "outputs": [
    {
     "data": {
      "text/plain": [
       "5.6"
      ]
     },
     "execution_count": 3,
     "metadata": {},
     "output_type": "execute_result"
    }
   ],
   "source": [
    "error(4)"
   ]
  },
  {
   "cell_type": "code",
   "execution_count": 4,
   "id": "5e288dda",
   "metadata": {},
   "outputs": [],
   "source": [
    "def dedw(w):\n",
    "    return 0.2*w+1"
   ]
  },
  {
   "cell_type": "code",
   "execution_count": 5,
   "id": "fba8190b",
   "metadata": {},
   "outputs": [],
   "source": [
    "w=np.arange(-10, 10, 0.1)\n",
    "error = error(w)\n",
    "de_dw=dedw(w)"
   ]
  },
  {
   "cell_type": "code",
   "execution_count": 6,
   "id": "022e259e",
   "metadata": {},
   "outputs": [
    {
     "data": {
      "text/plain": [
       "array([-1.00000000e+01, -9.90000000e+00, -9.80000000e+00, -9.70000000e+00,\n",
       "       -9.60000000e+00, -9.50000000e+00, -9.40000000e+00, -9.30000000e+00,\n",
       "       -9.20000000e+00, -9.10000000e+00, -9.00000000e+00, -8.90000000e+00,\n",
       "       -8.80000000e+00, -8.70000000e+00, -8.60000000e+00, -8.50000000e+00,\n",
       "       -8.40000000e+00, -8.30000000e+00, -8.20000000e+00, -8.10000000e+00,\n",
       "       -8.00000000e+00, -7.90000000e+00, -7.80000000e+00, -7.70000000e+00,\n",
       "       -7.60000000e+00, -7.50000000e+00, -7.40000000e+00, -7.30000000e+00,\n",
       "       -7.20000000e+00, -7.10000000e+00, -7.00000000e+00, -6.90000000e+00,\n",
       "       -6.80000000e+00, -6.70000000e+00, -6.60000000e+00, -6.50000000e+00,\n",
       "       -6.40000000e+00, -6.30000000e+00, -6.20000000e+00, -6.10000000e+00,\n",
       "       -6.00000000e+00, -5.90000000e+00, -5.80000000e+00, -5.70000000e+00,\n",
       "       -5.60000000e+00, -5.50000000e+00, -5.40000000e+00, -5.30000000e+00,\n",
       "       -5.20000000e+00, -5.10000000e+00, -5.00000000e+00, -4.90000000e+00,\n",
       "       -4.80000000e+00, -4.70000000e+00, -4.60000000e+00, -4.50000000e+00,\n",
       "       -4.40000000e+00, -4.30000000e+00, -4.20000000e+00, -4.10000000e+00,\n",
       "       -4.00000000e+00, -3.90000000e+00, -3.80000000e+00, -3.70000000e+00,\n",
       "       -3.60000000e+00, -3.50000000e+00, -3.40000000e+00, -3.30000000e+00,\n",
       "       -3.20000000e+00, -3.10000000e+00, -3.00000000e+00, -2.90000000e+00,\n",
       "       -2.80000000e+00, -2.70000000e+00, -2.60000000e+00, -2.50000000e+00,\n",
       "       -2.40000000e+00, -2.30000000e+00, -2.20000000e+00, -2.10000000e+00,\n",
       "       -2.00000000e+00, -1.90000000e+00, -1.80000000e+00, -1.70000000e+00,\n",
       "       -1.60000000e+00, -1.50000000e+00, -1.40000000e+00, -1.30000000e+00,\n",
       "       -1.20000000e+00, -1.10000000e+00, -1.00000000e+00, -9.00000000e-01,\n",
       "       -8.00000000e-01, -7.00000000e-01, -6.00000000e-01, -5.00000000e-01,\n",
       "       -4.00000000e-01, -3.00000000e-01, -2.00000000e-01, -1.00000000e-01,\n",
       "       -3.55271368e-14,  1.00000000e-01,  2.00000000e-01,  3.00000000e-01,\n",
       "        4.00000000e-01,  5.00000000e-01,  6.00000000e-01,  7.00000000e-01,\n",
       "        8.00000000e-01,  9.00000000e-01,  1.00000000e+00,  1.10000000e+00,\n",
       "        1.20000000e+00,  1.30000000e+00,  1.40000000e+00,  1.50000000e+00,\n",
       "        1.60000000e+00,  1.70000000e+00,  1.80000000e+00,  1.90000000e+00,\n",
       "        2.00000000e+00,  2.10000000e+00,  2.20000000e+00,  2.30000000e+00,\n",
       "        2.40000000e+00,  2.50000000e+00,  2.60000000e+00,  2.70000000e+00,\n",
       "        2.80000000e+00,  2.90000000e+00,  3.00000000e+00,  3.10000000e+00,\n",
       "        3.20000000e+00,  3.30000000e+00,  3.40000000e+00,  3.50000000e+00,\n",
       "        3.60000000e+00,  3.70000000e+00,  3.80000000e+00,  3.90000000e+00,\n",
       "        4.00000000e+00,  4.10000000e+00,  4.20000000e+00,  4.30000000e+00,\n",
       "        4.40000000e+00,  4.50000000e+00,  4.60000000e+00,  4.70000000e+00,\n",
       "        4.80000000e+00,  4.90000000e+00,  5.00000000e+00,  5.10000000e+00,\n",
       "        5.20000000e+00,  5.30000000e+00,  5.40000000e+00,  5.50000000e+00,\n",
       "        5.60000000e+00,  5.70000000e+00,  5.80000000e+00,  5.90000000e+00,\n",
       "        6.00000000e+00,  6.10000000e+00,  6.20000000e+00,  6.30000000e+00,\n",
       "        6.40000000e+00,  6.50000000e+00,  6.60000000e+00,  6.70000000e+00,\n",
       "        6.80000000e+00,  6.90000000e+00,  7.00000000e+00,  7.10000000e+00,\n",
       "        7.20000000e+00,  7.30000000e+00,  7.40000000e+00,  7.50000000e+00,\n",
       "        7.60000000e+00,  7.70000000e+00,  7.80000000e+00,  7.90000000e+00,\n",
       "        8.00000000e+00,  8.10000000e+00,  8.20000000e+00,  8.30000000e+00,\n",
       "        8.40000000e+00,  8.50000000e+00,  8.60000000e+00,  8.70000000e+00,\n",
       "        8.80000000e+00,  8.90000000e+00,  9.00000000e+00,  9.10000000e+00,\n",
       "        9.20000000e+00,  9.30000000e+00,  9.40000000e+00,  9.50000000e+00,\n",
       "        9.60000000e+00,  9.70000000e+00,  9.80000000e+00,  9.90000000e+00])"
      ]
     },
     "execution_count": 6,
     "metadata": {},
     "output_type": "execute_result"
    }
   ],
   "source": [
    "w"
   ]
  },
  {
   "cell_type": "code",
   "execution_count": 7,
   "id": "2bbc85a1",
   "metadata": {},
   "outputs": [
    {
     "data": {
      "text/plain": [
       "[<matplotlib.lines.Line2D at 0x1f3eb9d7640>]"
      ]
     },
     "execution_count": 7,
     "metadata": {},
     "output_type": "execute_result"
    },
    {
     "data": {
      "image/png": "[encoded data removed]",
      "text/plain": [
       "<Figure size 432x288 with 1 Axes>"
      ]
     },
     "metadata": {
      "needs_background": "light"
     },
     "output_type": "display_data"
    }
   ],
   "source": [
    "plt.plot(w,de_dw)"
   ]
  },
  {
   "cell_type": "code",
   "execution_count": 8,
   "id": "8844c23a",
   "metadata": {},
   "outputs": [
    {
     "data": {
      "text/plain": [
       "array([ 0.00000000e+00, -9.90000000e-02, -1.96000000e-01, -2.91000000e-01,\n",
       "       -3.84000000e-01, -4.75000000e-01, -5.64000000e-01, -6.51000000e-01,\n",
       "       -7.36000000e-01, -8.19000000e-01, -9.00000000e-01, -9.79000000e-01,\n",
       "       -1.05600000e+00, -1.13100000e+00, -1.20400000e+00, -1.27500000e+00,\n",
       "       -1.34400000e+00, -1.41100000e+00, -1.47600000e+00, -1.53900000e+00,\n",
       "       -1.60000000e+00, -1.65900000e+00, -1.71600000e+00, -1.77100000e+00,\n",
       "       -1.82400000e+00, -1.87500000e+00, -1.92400000e+00, -1.97100000e+00,\n",
       "       -2.01600000e+00, -2.05900000e+00, -2.10000000e+00, -2.13900000e+00,\n",
       "       -2.17600000e+00, -2.21100000e+00, -2.24400000e+00, -2.27500000e+00,\n",
       "       -2.30400000e+00, -2.33100000e+00, -2.35600000e+00, -2.37900000e+00,\n",
       "       -2.40000000e+00, -2.41900000e+00, -2.43600000e+00, -2.45100000e+00,\n",
       "       -2.46400000e+00, -2.47500000e+00, -2.48400000e+00, -2.49100000e+00,\n",
       "       -2.49600000e+00, -2.49900000e+00, -2.50000000e+00, -2.49900000e+00,\n",
       "       -2.49600000e+00, -2.49100000e+00, -2.48400000e+00, -2.47500000e+00,\n",
       "       -2.46400000e+00, -2.45100000e+00, -2.43600000e+00, -2.41900000e+00,\n",
       "       -2.40000000e+00, -2.37900000e+00, -2.35600000e+00, -2.33100000e+00,\n",
       "       -2.30400000e+00, -2.27500000e+00, -2.24400000e+00, -2.21100000e+00,\n",
       "       -2.17600000e+00, -2.13900000e+00, -2.10000000e+00, -2.05900000e+00,\n",
       "       -2.01600000e+00, -1.97100000e+00, -1.92400000e+00, -1.87500000e+00,\n",
       "       -1.82400000e+00, -1.77100000e+00, -1.71600000e+00, -1.65900000e+00,\n",
       "       -1.60000000e+00, -1.53900000e+00, -1.47600000e+00, -1.41100000e+00,\n",
       "       -1.34400000e+00, -1.27500000e+00, -1.20400000e+00, -1.13100000e+00,\n",
       "       -1.05600000e+00, -9.79000000e-01, -9.00000000e-01, -8.19000000e-01,\n",
       "       -7.36000000e-01, -6.51000000e-01, -5.64000000e-01, -4.75000000e-01,\n",
       "       -3.84000000e-01, -2.91000000e-01, -1.96000000e-01, -9.90000000e-02,\n",
       "       -3.55271368e-14,  1.01000000e-01,  2.04000000e-01,  3.09000000e-01,\n",
       "        4.16000000e-01,  5.25000000e-01,  6.36000000e-01,  7.49000000e-01,\n",
       "        8.64000000e-01,  9.81000000e-01,  1.10000000e+00,  1.22100000e+00,\n",
       "        1.34400000e+00,  1.46900000e+00,  1.59600000e+00,  1.72500000e+00,\n",
       "        1.85600000e+00,  1.98900000e+00,  2.12400000e+00,  2.26100000e+00,\n",
       "        2.40000000e+00,  2.54100000e+00,  2.68400000e+00,  2.82900000e+00,\n",
       "        2.97600000e+00,  3.12500000e+00,  3.27600000e+00,  3.42900000e+00,\n",
       "        3.58400000e+00,  3.74100000e+00,  3.90000000e+00,  4.06100000e+00,\n",
       "        4.22400000e+00,  4.38900000e+00,  4.55600000e+00,  4.72500000e+00,\n",
       "        4.89600000e+00,  5.06900000e+00,  5.24400000e+00,  5.42100000e+00,\n",
       "        5.60000000e+00,  5.78100000e+00,  5.96400000e+00,  6.14900000e+00,\n",
       "        6.33600000e+00,  6.52500000e+00,  6.71600000e+00,  6.90900000e+00,\n",
       "        7.10400000e+00,  7.30100000e+00,  7.50000000e+00,  7.70100000e+00,\n",
       "        7.90400000e+00,  8.10900000e+00,  8.31600000e+00,  8.52500000e+00,\n",
       "        8.73600000e+00,  8.94900000e+00,  9.16400000e+00,  9.38100000e+00,\n",
       "        9.60000000e+00,  9.82100000e+00,  1.00440000e+01,  1.02690000e+01,\n",
       "        1.04960000e+01,  1.07250000e+01,  1.09560000e+01,  1.11890000e+01,\n",
       "        1.14240000e+01,  1.16610000e+01,  1.19000000e+01,  1.21410000e+01,\n",
       "        1.23840000e+01,  1.26290000e+01,  1.28760000e+01,  1.31250000e+01,\n",
       "        1.33760000e+01,  1.36290000e+01,  1.38840000e+01,  1.41410000e+01,\n",
       "        1.44000000e+01,  1.46610000e+01,  1.49240000e+01,  1.51890000e+01,\n",
       "        1.54560000e+01,  1.57250000e+01,  1.59960000e+01,  1.62690000e+01,\n",
       "        1.65440000e+01,  1.68210000e+01,  1.71000000e+01,  1.73810000e+01,\n",
       "        1.76640000e+01,  1.79490000e+01,  1.82360000e+01,  1.85250000e+01,\n",
       "        1.88160000e+01,  1.91090000e+01,  1.94040000e+01,  1.97010000e+01])"
      ]
     },
     "execution_count": 8,
     "metadata": {},
     "output_type": "execute_result"
    }
   ],
   "source": [
    "error"
   ]
  },
  {
   "cell_type": "code",
   "execution_count": 9,
   "id": "11eb649d",
   "metadata": {},
   "outputs": [],
   "source": [
    "w = 10\n",
    "myu = 0.1"
   ]
  },
  {
   "cell_type": "code",
   "execution_count": 10,
   "id": "6245d7ee",
   "metadata": {},
   "outputs": [],
   "source": [
    "w = 10\n",
    "myu = 0.1\n",
    "w=w-myu*dedw(w)"
   ]
  },
  {
   "cell_type": "code",
   "execution_count": 11,
   "id": "0eda542c",
   "metadata": {},
   "outputs": [
    {
     "data": {
      "text/plain": [
       "9.7"
      ]
     },
     "execution_count": 11,
     "metadata": {},
     "output_type": "execute_result"
    }
   ],
   "source": [
    "w"
   ]
  },
  {
   "cell_type": "code",
   "execution_count": 12,
   "id": "6026de9f",
   "metadata": {},
   "outputs": [],
   "source": [
    "w=w-myu*dedw(w)"
   ]
  },
  {
   "cell_type": "code",
   "execution_count": 13,
   "id": "0ec6f082",
   "metadata": {},
   "outputs": [
    {
     "data": {
      "text/plain": [
       "9.405999999999999"
      ]
     },
     "execution_count": 13,
     "metadata": {},
     "output_type": "execute_result"
    }
   ],
   "source": [
    "w"
   ]
  },
  {
   "cell_type": "code",
   "execution_count": 14,
   "id": "332f0e24",
   "metadata": {},
   "outputs": [
    {
     "name": "stdout",
     "output_type": "stream",
     "text": [
      "iter:625,w:-4.999951736963476\n"
     ]
    }
   ],
   "source": [
    "w = 10\n",
    "myu = 0.1\n",
    "for i in range(1000):\n",
    "    w_old = w\n",
    "    w=w-myu*dedw(w)\n",
    "    if abs( w-w_old) <1.0e-6:\n",
    "        print(\"iter:{iteration},w:{weight}\".format(iteration = i,weight=w))\n",
    "        break"
   ]
  },
  {
   "cell_type": "code",
   "execution_count": 15,
   "id": "539b0c9c",
   "metadata": {},
   "outputs": [
    {
     "data": {
      "text/plain": [
       "-4.999951736963476"
      ]
     },
     "execution_count": 15,
     "metadata": {},
     "output_type": "execute_result"
    }
   ],
   "source": [
    "w"
   ]
  },
  {
   "cell_type": "markdown",
   "id": "e099f08e",
   "metadata": {},
   "source": [
    "## Numerical differentation(Central difference scheme)"
   ]
  },
  {
   "cell_type": "code",
   "execution_count": 16,
   "id": "5b32bd6d",
   "metadata": {},
   "outputs": [],
   "source": [
    "def num_dedw(w):\n",
    "    h = 1.0e-4\n",
    "    e1 = 0.1*(w-h)**2+(w-h)\n",
    "    e2 = 0.1*(w+h)**2+(w+h)\n",
    "    return (e2-e1)/(2*h)"
   ]
  },
  {
   "cell_type": "code",
   "execution_count": 17,
   "id": "cc80586f",
   "metadata": {},
   "outputs": [
    {
     "name": "stdout",
     "output_type": "stream",
     "text": [
      "iter:625,w:-4.999951736963734\n"
     ]
    }
   ],
   "source": [
    "w=10\n",
    "myu = 0.1\n",
    "for i in range(1000000):\n",
    "    w_old = w\n",
    "    w= w-myu*num_dedw(w)\n",
    "    if abs(w-w_old) < 1.0e-6:\n",
    "        print(\"iter:{iteration},w:{weight}\".format(iteration=i,weight = w))\n",
    "        break"
   ]
  },
  {
   "cell_type": "markdown",
   "id": "336e8828",
   "metadata": {},
   "source": [
    "## Multidimensional Case"
   ]
  },
  {
   "cell_type": "markdown",
   "id": "69553a7e",
   "metadata": {},
   "source": [
    "f=X0^2 + w*(x1-3)^2 - 10\n",
    "\n",
    "df/dx0 = 2*x0\n",
    "\n",
    "df/dx1 = 4*(x1-3)"
   ]
  },
  {
   "cell_type": "code",
   "execution_count": 18,
   "id": "6f49f66b",
   "metadata": {},
   "outputs": [],
   "source": [
    "def problem(x):\n",
    "    return x[0]**2+2*(x[1]-3)**2-10"
   ]
  },
  {
   "cell_type": "code",
   "execution_count": 19,
   "id": "148c0b7f",
   "metadata": {},
   "outputs": [],
   "source": [
    "def gradient(x):\n",
    "    grad = np.zeros_like(x) ##차원 미리 세팅\n",
    "    grad[0]=2*x[0]\n",
    "    grad[1]=4*(x[1]-3)\n",
    "    return grad"
   ]
  },
  {
   "cell_type": "code",
   "execution_count": 20,
   "id": "71d3b59b",
   "metadata": {},
   "outputs": [],
   "source": [
    "w= np.array([1,1])\n",
    "iter_max = 1000000\n",
    "myu = 0.1"
   ]
  },
  {
   "cell_type": "code",
   "execution_count": 21,
   "id": "547021de",
   "metadata": {},
   "outputs": [
    {
     "name": "stdout",
     "output_type": "stream",
     "text": [
      "iter:45,res:7.588550360948265e-11,w:[3.48449144e-05 3.00000000e+00]\n"
     ]
    }
   ],
   "source": [
    "for i in range(iter_max):\n",
    "    w_old = w\n",
    "    w= w- myu*gradient(w)\n",
    "    error = np.sum((w-w_old)**2)\n",
    "    if error < 1.0e-10:\n",
    "        print(\"iter:{iteration},res:{error},w:{weight}\".format(iteration=i,error=error,weight = w))\n",
    "        break"
   ]
  },
  {
   "cell_type": "code",
   "execution_count": 22,
   "id": "8bd3514e",
   "metadata": {},
   "outputs": [],
   "source": [
    "def numerical_gradient(function,x):\n",
    "    h=1.0e-4\n",
    "    grad = np.zeros_like(x)\n",
    "    x_temp=x.copy()\n",
    "    for i in range(x.size):\n",
    "        x_temp[i] = x[i] - h\n",
    "        f1 = function(x_temp)\n",
    "        x_temp[i] = x[i] +h\n",
    "        f2 = function(x_temp)\n",
    "        grad[i] = (f2-f1)/(2*h)\n",
    "    return grad"
   ]
  },
  {
   "cell_type": "code",
   "execution_count": 23,
   "id": "a99129f8",
   "metadata": {},
   "outputs": [
    {
     "data": {
      "text/plain": [
       "array([ 6., -4.])"
      ]
     },
     "execution_count": 23,
     "metadata": {},
     "output_type": "execute_result"
    }
   ],
   "source": [
    "w = np.array([3.0,2.0])\n",
    "numerical_gradient(problem, w)"
   ]
  },
  {
   "cell_type": "code",
   "execution_count": 24,
   "id": "970c8ede",
   "metadata": {
    "scrolled": true
   },
   "outputs": [
    {
     "name": "stdout",
     "output_type": "stream",
     "text": [
      "iter:50,res:7.33332911084933e-11,w:[3.42539453e-05 3.00000000e+00]\n"
     ]
    }
   ],
   "source": [
    "for i in range(iter_max):\n",
    "    w_old = w\n",
    "    w= w- myu*numerical_gradient(problem,w)\n",
    "    error = np.sum((w-w_old)**2)\n",
    "    if error < 1.0e-10:\n",
    "        print(\"iter:{iteration},res:{error},w:{weight}\".format(iteration=i,error=error,weight = w))\n",
    "        break"
   ]
  },
  {
   "cell_type": "markdown",
   "id": "e322fd9c",
   "metadata": {},
   "source": [
    "### In-class Practice"
   ]
  },
  {
   "cell_type": "markdown",
   "id": "d3b3d9aa",
   "metadata": {},
   "source": [
    "1) Define a function with f = (x0-2)^2 + 2(x1-3)^2+3(x2-1)^2-4\n",
    "\n",
    "2) Write your own code for momentuem(1999) algorithm in the class with alpha=0.3, myu = 0.1 ##learning rate\n",
    "\n",
    "3) Use the numerical_gradient used in this class\n",
    "\n",
    "4) Find the w corresponding to minimum value of f.\n",
    "\n",
    "5) Use initial condition w=[5,5,5],Error_criteria = 1.e-6\n",
    "\n",
    "6) Report your number of iterations, and numerically obtained w."
   ]
  },
  {
   "cell_type": "code",
   "execution_count": 25,
   "id": "6f33255d",
   "metadata": {},
   "outputs": [],
   "source": [
    "def Fun(x):\n",
    "    return (x[0]-2)**2 + 2*(x[1]-3)**2 + 3*(x[2]-1)**2 - 4\n"
   ]
  },
  {
   "cell_type": "code",
   "execution_count": 26,
   "id": "a8a088ba",
   "metadata": {},
   "outputs": [],
   "source": [
    "def honwork(function,x):\n",
    "    h=1.0e-4\n",
    "    grad = np.zeros_like(x)\n",
    "    x_temp=x.copy()\n",
    "    for i in range(x.size):\n",
    "        x_temp[i] = x[i] - h\n",
    "        f1 = function(x_temp)\n",
    "        x_temp[i] = x[i] +h\n",
    "        f2 = function(x_temp)\n",
    "        grad[i] = (f1-f2)/(2*h)\n",
    "    return grad\n",
    "\n"
   ]
  },
  {
   "cell_type": "code",
   "execution_count": 27,
   "id": "540c3c27",
   "metadata": {},
   "outputs": [
    {
     "name": "stdout",
     "output_type": "stream",
     "text": [
      "iter:71,res:9.710228527188496e-11,w:[1.99996686 3.         1.        ]\n"
     ]
    }
   ],
   "source": [
    "w=np.array([5,5,5])\n",
    "iter_max2=1000000\n",
    "myu=0.1\n",
    "alpha=0.3\n",
    "s_old2=0\n",
    "\n",
    "for i in range(iter_max2):\n",
    "    w_old2=w\n",
    "    s2= alpha*s_old2- (1-alpha)*honwork(Fun,w)\n",
    "    s_old2=s2\n",
    "    w=w-myu*s2\n",
    "    error = np.sum((w-w_old2)**2)\n",
    "    if error < 1.0e-10:\n",
    "        print(\"iter:{iteration},res:{error},w:{weight}\".format(iteration=i,error=error,weight = w))\n",
    "        break"
   ]
  },
  {
   "cell_type": "code",
   "execution_count": null,
   "id": "41435053",
   "metadata": {},
   "outputs": [],
   "source": []
  },
  {
   "cell_type": "code",
   "execution_count": null,
   "id": "4bd13737",
   "metadata": {},
   "outputs": [],
   "source": []
  }
 ],
 "metadata": {
  "kernelspec": {
   "display_name": "Python 3 (ipykernel)",
   "language": "python",
   "name": "python3"
  },
  "language_info": {
   "codemirror_mode": {
    "name": "ipython",
    "version": 3
   },
   "file_extension": ".py",
   "mimetype": "text/x-python",
   "name": "python",
   "nbconvert_exporter": "python",
   "pygments_lexer": "ipython3",
   "version": "3.9.7"
  }
 },
 "nbformat": 4,
 "nbformat_minor": 5
}
