{
 "cells": [
  {
   "cell_type": "markdown",
   "id": "bc78d2dc",
   "metadata": {},
   "source": [
    "### LinearRegression"
   ]
  },
  {
   "cell_type": "code",
   "execution_count": 3,
   "id": "48ff2672",
   "metadata": {},
   "outputs": [],
   "source": [
    "from sklearn.linear_model import LinearRegression"
   ]
  },
  {
   "cell_type": "code",
   "execution_count": 4,
   "id": "317aeec9",
   "metadata": {},
   "outputs": [],
   "source": [
    "import mglearn"
   ]
  },
  {
   "cell_type": "code",
   "execution_count": 5,
   "id": "a1f97862",
   "metadata": {},
   "outputs": [],
   "source": [
    "X,y=mglearn.datasets.make_wave(n_samples=500)  ##mglearn에있는 데이터셋의 makewave샘플을 500개가져옴"
   ]
  },
  {
   "cell_type": "code",
   "execution_count": 6,
   "id": "c69d7632",
   "metadata": {},
   "outputs": [
    {
     "data": {
      "text/plain": [
       "(500, 1)"
      ]
     },
     "execution_count": 6,
     "metadata": {},
     "output_type": "execute_result"
    }
   ],
   "source": [
    "X.shape"
   ]
  },
  {
   "cell_type": "code",
   "execution_count": 7,
   "id": "8ea00c87",
   "metadata": {},
   "outputs": [
    {
     "data": {
      "text/plain": [
       "(500,)"
      ]
     },
     "execution_count": 7,
     "metadata": {},
     "output_type": "execute_result"
    }
   ],
   "source": [
    "y.shape"
   ]
  },
  {
   "cell_type": "code",
   "execution_count": 9,
   "id": "f6da0c78",
   "metadata": {},
   "outputs": [],
   "source": [
    "from sklearn.model_selection import train_test_split"
   ]
  },
  {
   "cell_type": "code",
   "execution_count": 10,
   "id": "cd5cf050",
   "metadata": {},
   "outputs": [],
   "source": [
    "X_train, X_test,y_train,y_test=train_test_split(X,y,random_state=0)"
   ]
  },
  {
   "cell_type": "code",
   "execution_count": 12,
   "id": "2f942196",
   "metadata": {},
   "outputs": [],
   "source": [
    "lr=LinearRegression().fit(X_train,y_train)"
   ]
  },
  {
   "cell_type": "code",
   "execution_count": 13,
   "id": "003db424",
   "metadata": {},
   "outputs": [
    {
     "data": {
      "text/plain": [
       "array([0.46828404])"
      ]
     },
     "execution_count": 13,
     "metadata": {},
     "output_type": "execute_result"
    }
   ],
   "source": [
    "lr.coef_ ##y=w1x+w0     (W1)"
   ]
  },
  {
   "cell_type": "code",
   "execution_count": 14,
   "id": "8060dcf5",
   "metadata": {},
   "outputs": [
    {
     "data": {
      "text/plain": [
       "0.033475002734533854"
      ]
     },
     "execution_count": 14,
     "metadata": {},
     "output_type": "execute_result"
    }
   ],
   "source": [
    "lr.intercept_ ##y=w1x+w0      (W0)"
   ]
  },
  {
   "cell_type": "markdown",
   "id": "8fb9b41e",
   "metadata": {},
   "source": [
    "### Determination of coefficient(R^2)"
   ]
  },
  {
   "cell_type": "code",
   "execution_count": 15,
   "id": "e48a48fe",
   "metadata": {},
   "outputs": [
    {
     "data": {
      "text/plain": [
       "0.6684678090755989"
      ]
     },
     "execution_count": 15,
     "metadata": {},
     "output_type": "execute_result"
    }
   ],
   "source": [
    "lr.score(X_train,y_train)"
   ]
  },
  {
   "cell_type": "code",
   "execution_count": 16,
   "id": "dfe3818f",
   "metadata": {},
   "outputs": [
    {
     "data": {
      "text/plain": [
       "0.6164683207580135"
      ]
     },
     "execution_count": 16,
     "metadata": {},
     "output_type": "execute_result"
    }
   ],
   "source": [
    "lr.score(X_test,y_test)"
   ]
  },
  {
   "cell_type": "markdown",
   "id": "6bd3daed",
   "metadata": {},
   "source": [
    "### Multiple Linear Regression"
   ]
  },
  {
   "cell_type": "code",
   "execution_count": 17,
   "id": "e0cf279e",
   "metadata": {},
   "outputs": [],
   "source": [
    "X,y = mglearn.datasets.load_extended_boston()"
   ]
  },
  {
   "cell_type": "code",
   "execution_count": 18,
   "id": "d66f15f3",
   "metadata": {},
   "outputs": [
    {
     "data": {
      "text/plain": [
       "(506, 104)"
      ]
     },
     "execution_count": 18,
     "metadata": {},
     "output_type": "execute_result"
    }
   ],
   "source": [
    "X.shape  ##N=506//d=104"
   ]
  },
  {
   "cell_type": "code",
   "execution_count": 19,
   "id": "c6923a78",
   "metadata": {},
   "outputs": [
    {
     "data": {
      "text/plain": [
       "(506,)"
      ]
     },
     "execution_count": 19,
     "metadata": {},
     "output_type": "execute_result"
    }
   ],
   "source": [
    "y.shape"
   ]
  },
  {
   "cell_type": "code",
   "execution_count": 20,
   "id": "68d1a8f3",
   "metadata": {},
   "outputs": [],
   "source": [
    "X_train, X_test,y_train,y_test=train_test_split(X,y,random_state=0)"
   ]
  },
  {
   "cell_type": "code",
   "execution_count": 21,
   "id": "f64c0f75",
   "metadata": {},
   "outputs": [],
   "source": [
    "lr=LinearRegression().fit(X_train,y_train)"
   ]
  },
  {
   "cell_type": "code",
   "execution_count": 22,
   "id": "52b2fd7a",
   "metadata": {},
   "outputs": [
    {
     "data": {
      "text/plain": [
       "(104,)"
      ]
     },
     "execution_count": 22,
     "metadata": {},
     "output_type": "execute_result"
    }
   ],
   "source": [
    "lr.coef_.shapepe"
   ]
  },
  {
   "cell_type": "code",
   "execution_count": 25,
   "id": "4e511586",
   "metadata": {
    "scrolled": true
   },
   "outputs": [
    {
     "data": {
      "text/plain": [
       "0.9520519609032729"
      ]
     },
     "execution_count": 25,
     "metadata": {},
     "output_type": "execute_result"
    }
   ],
   "source": [
    "lr.score(X_train,y_train)"
   ]
  },
  {
   "cell_type": "code",
   "execution_count": 26,
   "id": "17f86be3",
   "metadata": {
    "scrolled": true
   },
   "outputs": [
    {
     "data": {
      "text/plain": [
       "0.6074721959665752"
      ]
     },
     "execution_count": 26,
     "metadata": {},
     "output_type": "execute_result"
    }
   ],
   "source": [
    "lr.score(X_test,y_test)"
   ]
  },
  {
   "cell_type": "markdown",
   "id": "a1abbbce",
   "metadata": {},
   "source": [
    "### Overfitting"
   ]
  },
  {
   "cell_type": "markdown",
   "id": "31df1a45",
   "metadata": {},
   "source": [
    "#### N increases, or d decreases.... Overfitting issue overcomes...\n",
    "Ridge regression method"
   ]
  },
  {
   "cell_type": "code",
   "execution_count": 27,
   "id": "02795b2a",
   "metadata": {},
   "outputs": [],
   "source": [
    "from sklearn.linear_model import Ridge\n"
   ]
  },
  {
   "cell_type": "code",
   "execution_count": 28,
   "id": "caf343a1",
   "metadata": {},
   "outputs": [],
   "source": [
    "clf=Ridge(alpha=1.0)"
   ]
  },
  {
   "cell_type": "code",
   "execution_count": 29,
   "id": "bbd085c9",
   "metadata": {},
   "outputs": [
    {
     "data": {
      "text/plain": [
       "Ridge()"
      ]
     },
     "execution_count": 29,
     "metadata": {},
     "output_type": "execute_result"
    }
   ],
   "source": [
    "clf.fit(X_train,y_train)"
   ]
  },
  {
   "cell_type": "code",
   "execution_count": 30,
   "id": "6149b12d",
   "metadata": {},
   "outputs": [
    {
     "data": {
      "text/plain": [
       "0.885796658517094"
      ]
     },
     "execution_count": 30,
     "metadata": {},
     "output_type": "execute_result"
    }
   ],
   "source": [
    "clf.score(X_train,y_train)"
   ]
  },
  {
   "cell_type": "code",
   "execution_count": 31,
   "id": "137fa3b1",
   "metadata": {},
   "outputs": [
    {
     "data": {
      "text/plain": [
       "0.7527683481744755"
      ]
     },
     "execution_count": 31,
     "metadata": {},
     "output_type": "execute_result"
    }
   ],
   "source": [
    "clf.score(X_test,y_test)"
   ]
  },
  {
   "cell_type": "code",
   "execution_count": 32,
   "id": "0a8b6088",
   "metadata": {},
   "outputs": [],
   "source": [
    "ridge01=Ridge(alpha=0.1).fit(X_train,y_train)\n",
    "ridge1=Ridge(alpha=1).fit(X_train,y_train)\n",
    "ridge10=Ridge(alpha=10).fit(X_train,y_train)"
   ]
  },
  {
   "cell_type": "code",
   "execution_count": 38,
   "id": "d95a34ac",
   "metadata": {},
   "outputs": [],
   "source": [
    "import matplotlib.pyplot as plt\n",
    "%matplotlib inline"
   ]
  },
  {
   "cell_type": "code",
   "execution_count": 40,
   "id": "bb5071f3",
   "metadata": {
    "scrolled": true
   },
   "outputs": [
    {
     "data": {
      "text/plain": [
       "<matplotlib.legend.Legend at 0x143c3d51220>"
      ]
     },
     "execution_count": 40,
     "metadata": {},
     "output_type": "execute_result"
    },
    {
     "data": {
      "image/png": "[encoded data removed]",
      "text/plain": [
       "<Figure size 432x288 with 1 Axes>"
      ]
     },
     "metadata": {
      "needs_background": "light"
     },
     "output_type": "display_data"
    }
   ],
   "source": [
    "plt.plot(ridge01.coef_,\"^\",label=\"Ridge alpha = 0.1\")\n",
    "plt.plot(ridge1.coef_,\"s\",label=\"Ridge alpha = 1\")\n",
    "plt.plot(ridge10.coef_,\"v\",label=\"Ridge alpha = 10\")\n",
    "plt.plot(lr.coef_,\"o\",label=\"LinearRegression\")\n",
    "plt.ylim(-50,50)\n",
    "plt.legend()"
   ]
  },
  {
   "cell_type": "code",
   "execution_count": 55,
   "id": "96e50c30",
   "metadata": {},
   "outputs": [],
   "source": [
    "alphas=[]\n",
    "train_results=[]\n",
    "test_results=[]"
   ]
  },
  {
   "cell_type": "code",
   "execution_count": 56,
   "id": "cd912416",
   "metadata": {},
   "outputs": [],
   "source": [
    "for i in range(100):\n",
    "    alpha=i*0.01\n",
    "    Ridg=Ridge(alpha=alpha).fit(X_train,y_train)\n",
    "    train_result=Ridg.score(X_train,y_train)\n",
    "    test_result=Ridg.score(X_test,y_test)\n",
    "    alphas.append(alpha)\n",
    "    train_results.append(train_result)\n",
    "    test_results.append(test_result)"
   ]
  },
  {
   "cell_type": "code",
   "execution_count": 57,
   "id": "b282c730",
   "metadata": {},
   "outputs": [
    {
     "data": {
      "text/plain": [
       "<matplotlib.legend.Legend at 0x143c40ccaf0>"
      ]
     },
     "execution_count": 57,
     "metadata": {},
     "output_type": "execute_result"
    },
    {
     "data": {
      "image/png": "[encoded data removed]",
      "text/plain": [
       "<Figure size 432x288 with 1 Axes>"
      ]
     },
     "metadata": {
      "needs_background": "light"
     },
     "output_type": "display_data"
    }
   ],
   "source": [
    "plt.plot(alphas,train_results,label=\"Training Results\")\n",
    "plt.plot(alphas,test_results,label=\"Testing Results\")\n",
    "plt.legend()"
   ]
  },
  {
   "cell_type": "markdown",
   "id": "467f000d",
   "metadata": {},
   "source": [
    "## LASSO"
   ]
  },
  {
   "cell_type": "code",
   "execution_count": 58,
   "id": "54775307",
   "metadata": {},
   "outputs": [],
   "source": [
    "from sklearn.linear_model import Lasso"
   ]
  },
  {
   "cell_type": "code",
   "execution_count": 60,
   "id": "e17c5c07",
   "metadata": {},
   "outputs": [],
   "source": [
    "lasso=Lasso().fit(X_train,y_train)"
   ]
  },
  {
   "cell_type": "code",
   "execution_count": 61,
   "id": "b3bb5c92",
   "metadata": {},
   "outputs": [
    {
     "data": {
      "text/plain": [
       "0.29323768991114607"
      ]
     },
     "execution_count": 61,
     "metadata": {},
     "output_type": "execute_result"
    }
   ],
   "source": [
    "lasso.score(X_train,y_train)"
   ]
  },
  {
   "cell_type": "code",
   "execution_count": 62,
   "id": "f2d34123",
   "metadata": {
    "scrolled": true
   },
   "outputs": [
    {
     "data": {
      "text/plain": [
       "0.20937503255272294"
      ]
     },
     "execution_count": 62,
     "metadata": {},
     "output_type": "execute_result"
    }
   ],
   "source": [
    "lasso.score(X_test,y_test)"
   ]
  },
  {
   "cell_type": "code",
   "execution_count": 63,
   "id": "75183fea",
   "metadata": {},
   "outputs": [],
   "source": [
    "import numpy as np"
   ]
  },
  {
   "cell_type": "code",
   "execution_count": 65,
   "id": "febad18f",
   "metadata": {},
   "outputs": [
    {
     "data": {
      "text/plain": [
       "4"
      ]
     },
     "execution_count": 65,
     "metadata": {},
     "output_type": "execute_result"
    }
   ],
   "source": [
    "np.sum(lasso.coef_!=0)"
   ]
  },
  {
   "cell_type": "code",
   "execution_count": 66,
   "id": "aefb8fda",
   "metadata": {},
   "outputs": [],
   "source": [
    "lasso001=Lasso(alpha=0.01,max_iter=10000).fit(X_train,y_train)"
   ]
  },
  {
   "cell_type": "code",
   "execution_count": 67,
   "id": "2caa9f3d",
   "metadata": {},
   "outputs": [
    {
     "data": {
      "text/plain": [
       "0.8962226511086497"
      ]
     },
     "execution_count": 67,
     "metadata": {},
     "output_type": "execute_result"
    }
   ],
   "source": [
    "lasso001.score(X_train,y_train)"
   ]
  },
  {
   "cell_type": "code",
   "execution_count": 68,
   "id": "06937a0c",
   "metadata": {},
   "outputs": [
    {
     "data": {
      "text/plain": [
       "0.7656571174549983"
      ]
     },
     "execution_count": 68,
     "metadata": {},
     "output_type": "execute_result"
    }
   ],
   "source": [
    "lasso001.score(X_test,y_test)"
   ]
  },
  {
   "cell_type": "code",
   "execution_count": 69,
   "id": "ca64b17e",
   "metadata": {},
   "outputs": [
    {
     "data": {
      "text/plain": [
       "33"
      ]
     },
     "execution_count": 69,
     "metadata": {},
     "output_type": "execute_result"
    }
   ],
   "source": [
    "np.sum(lasso001.coef_!=0)"
   ]
  },
  {
   "cell_type": "code",
   "execution_count": 70,
   "id": "efeb0708",
   "metadata": {},
   "outputs": [],
   "source": [
    "lasso00001=Lasso(alpha=0.0001,max_iter=1000000).fit(X_train,y_train)"
   ]
  },
  {
   "cell_type": "code",
   "execution_count": 71,
   "id": "0dc4e4bb",
   "metadata": {},
   "outputs": [
    {
     "data": {
      "text/plain": [
       "0.9507158754515467"
      ]
     },
     "execution_count": 71,
     "metadata": {},
     "output_type": "execute_result"
    }
   ],
   "source": [
    "lasso00001.score(X_train,y_train)"
   ]
  },
  {
   "cell_type": "code",
   "execution_count": 72,
   "id": "c4379e46",
   "metadata": {},
   "outputs": [
    {
     "data": {
      "text/plain": [
       "0.6437467421272709"
      ]
     },
     "execution_count": 72,
     "metadata": {},
     "output_type": "execute_result"
    }
   ],
   "source": [
    "lasso00001.score(X_test,y_test)"
   ]
  },
  {
   "cell_type": "code",
   "execution_count": 73,
   "id": "8c54446d",
   "metadata": {
    "scrolled": true
   },
   "outputs": [
    {
     "data": {
      "text/plain": [
       "<matplotlib.legend.Legend at 0x143c411b640>"
      ]
     },
     "execution_count": 73,
     "metadata": {},
     "output_type": "execute_result"
    },
    {
     "data": {
      "image/png": "[encoded data removed]",
      "text/plain": [
       "<Figure size 432x288 with 1 Axes>"
      ]
     },
     "metadata": {
      "needs_background": "light"
     },
     "output_type": "display_data"
    }
   ],
   "source": [
    "plt.plot(lasso.coef_,\"^\",label=\"lasso alpha = 1\")\n",
    "plt.plot(lasso001.coef_,\"s\",label=\"lassoalpha = 0.01\")\n",
    "plt.plot(lasso00001.coef_,\"v\",label=\"Ridge alpha = 0.0001\")\n",
    "plt.plot(ridge01.coef_,\"o\",label=\"Ridge alpha = 0.1\")\n",
    "plt.ylim(-25,25)\n",
    "plt.legend()"
   ]
  },
  {
   "cell_type": "markdown",
   "id": "2c9fa1f8",
   "metadata": {},
   "source": [
    "## In_Class Homework\n",
    "\n",
    "1) Call ElasticNet function from sklearn\n",
    "\n",
    "2) Use three alpha (0.001,0.01,0.1,10)with a l1 (0.4)\n",
    "\n",
    "3) Perform fitting with training data\n",
    "\n",
    "4) plot to demonstrate which alpha is the best among four alphas\n",
    "\n",
    "you need plot training and testing result with labels in the same figure. the figure should contain a legend."
   ]
  },
  {
   "cell_type": "code",
   "execution_count": 88,
   "id": "f81247b9",
   "metadata": {},
   "outputs": [],
   "source": [
    "from sklearn.linear_model import ElasticNet\n",
    "from sklearn.datasets import make_regression"
   ]
  },
  {
   "cell_type": "code",
   "execution_count": 89,
   "id": "cef4b82c",
   "metadata": {},
   "outputs": [],
   "source": [
    "ela=ElasticNet(alpha=1.0)"
   ]
  },
  {
   "cell_type": "code",
   "execution_count": 90,
   "id": "c3ba0480",
   "metadata": {},
   "outputs": [
    {
     "data": {
      "text/plain": [
       "ElasticNet()"
      ]
     },
     "execution_count": 90,
     "metadata": {},
     "output_type": "execute_result"
    }
   ],
   "source": [
    "ela.fit(X_train,y_train)"
   ]
  },
  {
   "cell_type": "code",
   "execution_count": 91,
   "id": "f8e3e85d",
   "metadata": {},
   "outputs": [
    {
     "data": {
      "text/plain": [
       "0.32837814485847916"
      ]
     },
     "execution_count": 91,
     "metadata": {},
     "output_type": "execute_result"
    }
   ],
   "source": [
    "ela.score(X_train,y_train)"
   ]
  },
  {
   "cell_type": "code",
   "execution_count": 92,
   "id": "8460665d",
   "metadata": {},
   "outputs": [
    {
     "data": {
      "text/plain": [
       "0.2217004367773664"
      ]
     },
     "execution_count": 92,
     "metadata": {},
     "output_type": "execute_result"
    }
   ],
   "source": [
    "ela.score(X_test,y_test)"
   ]
  },
  {
   "cell_type": "code",
   "execution_count": 123,
   "id": "87046fa2",
   "metadata": {},
   "outputs": [],
   "source": [
    "alphas=[]\n",
    "train_results=[]\n",
    "test_results=[]\n",
    "\n",
    "ela0001=ElasticNet(alpha=0.001,l1_ratio = 0.4,max_iter=10000).fit(X_train,y_train)\n",
    "ela001=ElasticNet(alpha=0.01,l1_ratio = 0.4,max_iter=10000).fit(X_train,y_train)\n",
    "ela01=ElasticNet(alpha=0.1,l1_ratio = 0.4,max_iter=10000).fit(X_train,y_train)\n",
    "ela10=ElasticNet(alpha=10,l1_ratio = 0.4,max_iter=10000).fit(X_train,y_train)\n"
   ]
  },
  {
   "cell_type": "code",
   "execution_count": 124,
   "id": "ebef2415",
   "metadata": {},
   "outputs": [
    {
     "data": {
      "text/plain": [
       "<matplotlib.legend.Legend at 0x143c54ba400>"
      ]
     },
     "execution_count": 124,
     "metadata": {},
     "output_type": "execute_result"
    },
    {
     "data": {
      "image/png": "[encoded data removed]",
      "text/plain": [
       "<Figure size 432x288 with 1 Axes>"
      ]
     },
     "metadata": {
      "needs_background": "light"
     },
     "output_type": "display_data"
    }
   ],
   "source": [
    "plt.plot(ela0001.coef_,\"^\",label=\"ela0001 alpha = 0.001\")\n",
    "plt.plot(ela001.coef_,\"s\",label=\"ela001 alpha = 0.01\")\n",
    "plt.plot(ela01.coef_,\"v\",label=\"Ridge alpha = 0.1\")\n",
    "plt.plot(ela10.coef_,\"v\",label=\"Ridge alpha = 10\")\n",
    "plt.ylim(-25,25)\n",
    "plt.legend()"
   ]
  },
  {
   "cell_type": "code",
   "execution_count": 125,
   "id": "5463e732",
   "metadata": {
    "scrolled": true
   },
   "outputs": [
    {
     "name": "stderr",
     "output_type": "stream",
     "text": [
      "C:\\Users\\home\\anaconda3\\lib\\site-packages\\sklearn\\linear_model\\_coordinate_descent.py:530: ConvergenceWarning: Objective did not converge. You might want to increase the number of iterations. Duality gap: 1442.5349688685483, tolerance: 3.233182126649077\n",
      "  model = cd_fast.enet_coordinate_descent(\n"
     ]
    }
   ],
   "source": [
    "alpha=[0.001,0.01,0.1,10]\n",
    "for i in alpha:\n",
    "    Elastic=ElasticNet(i).fit(X_train,y_train)\n",
    "    train_result=Elastic.score(X_train,y_train)\n",
    "    test_result=Elastic.score(X_test,y_test)\n",
    "    alphas.append(alpha)\n",
    "    train_results.append(train_result)\n",
    "    test_results.append(test_result)"
   ]
  },
  {
   "cell_type": "code",
   "execution_count": 126,
   "id": "b2e0bb15",
   "metadata": {},
   "outputs": [
    {
     "data": {
      "text/plain": [
       "<matplotlib.legend.Legend at 0x143c5586250>"
      ]
     },
     "execution_count": 126,
     "metadata": {},
     "output_type": "execute_result"
    },
    {
     "data": {
      "image/png": "[encoded data removed]",
      "text/plain": [
       "<Figure size 432x288 with 1 Axes>"
      ]
     },
     "metadata": {
      "needs_background": "light"
     },
     "output_type": "display_data"
    }
   ],
   "source": [
    "plt.plot(train_results,label=\"Training Results\")\n",
    "plt.plot(test_results,label=\"Testing Results\")\n",
    "plt.legend()"
   ]
  }
 ],
 "metadata": {
  "kernelspec": {
   "display_name": "Python 3 (ipykernel)",
   "language": "python",
   "name": "python3"
  },
  "language_info": {
   "codemirror_mode": {
    "name": "ipython",
    "version": 3
   },
   "file_extension": ".py",
   "mimetype": "text/x-python",
   "name": "python",
   "nbconvert_exporter": "python",
   "pygments_lexer": "ipython3",
   "version": "3.9.7"
  }
 },
 "nbformat": 4,
 "nbformat_minor": 5
}
