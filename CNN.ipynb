{
 "cells": [
  {
   "cell_type": "code",
   "execution_count": 1,
   "id": "b9b6a380",
   "metadata": {},
   "outputs": [],
   "source": [
    "import pandas as pd"
   ]
  },
  {
   "cell_type": "code",
   "execution_count": 2,
   "id": "9bdf61d9",
   "metadata": {},
   "outputs": [],
   "source": [
    "import numpy as np\n",
    "import matplotlib.pyplot as plt\n",
    "\n",
    "from keras import layers\n",
    "from keras import models\n",
    "import keras"
   ]
  },
  {
   "cell_type": "code",
   "execution_count": 3,
   "id": "7085714a",
   "metadata": {},
   "outputs": [],
   "source": [
    "from keras.datasets import mnist"
   ]
  },
  {
   "cell_type": "code",
   "execution_count": 4,
   "id": "95c080d7",
   "metadata": {},
   "outputs": [],
   "source": [
    "(X_train,y_train),(X_test,y_test) = mnist.load_data()"
   ]
  },
  {
   "cell_type": "code",
   "execution_count": 5,
   "id": "ece5fba7",
   "metadata": {},
   "outputs": [
    {
     "data": {
      "text/plain": [
       "(60000, 28, 28)"
      ]
     },
     "execution_count": 5,
     "metadata": {},
     "output_type": "execute_result"
    }
   ],
   "source": [
    "X_train.shape"
   ]
  },
  {
   "cell_type": "code",
   "execution_count": 6,
   "id": "e61436a1",
   "metadata": {},
   "outputs": [],
   "source": [
    "X_train = X_train.reshape(-1,28,28,1)"
   ]
  },
  {
   "cell_type": "code",
   "execution_count": 7,
   "id": "9984d3de",
   "metadata": {},
   "outputs": [],
   "source": [
    "X_test= X_test.reshape(10000,28,28,1)"
   ]
  },
  {
   "cell_type": "code",
   "execution_count": 8,
   "id": "caf1862b",
   "metadata": {},
   "outputs": [],
   "source": [
    "X_train = X_train.astype('float32')"
   ]
  },
  {
   "cell_type": "code",
   "execution_count": 9,
   "id": "3912cd4a",
   "metadata": {},
   "outputs": [],
   "source": [
    "X_test=X_test.astype('float32')"
   ]
  },
  {
   "cell_type": "code",
   "execution_count": 10,
   "id": "703e4aab",
   "metadata": {},
   "outputs": [],
   "source": [
    "X_train/=255\n",
    "X_test /=255"
   ]
  },
  {
   "cell_type": "code",
   "execution_count": 11,
   "id": "4ae8a7be",
   "metadata": {},
   "outputs": [],
   "source": [
    "n_class = 10"
   ]
  },
  {
   "cell_type": "code",
   "execution_count": 12,
   "id": "484d8011",
   "metadata": {},
   "outputs": [
    {
     "name": "stdout",
     "output_type": "stream",
     "text": [
      "shape before one-hot encoding:  (60000,)\n",
      "shape after one-hot encoding:  (60000, 10)\n"
     ]
    }
   ],
   "source": [
    "from keras.utils import np_utils\n",
    "n_classes = 10\n",
    "print(\"shape before one-hot encoding: \",y_train.shape)\n",
    "Y_train = np_utils.to_categorical(y_train,n_classes)\n",
    "Y_test = np_utils.to_categorical(y_test,n_classes)\n",
    "print(\"shape after one-hot encoding: \",Y_train.shape)"
   ]
  },
  {
   "cell_type": "code",
   "execution_count": 13,
   "id": "e76b5e69",
   "metadata": {},
   "outputs": [],
   "source": [
    "sample_shape = (28,28,1)"
   ]
  },
  {
   "cell_type": "code",
   "execution_count": 14,
   "id": "5f46044c",
   "metadata": {},
   "outputs": [],
   "source": [
    "k1_number = 32\n",
    "k1_shape = (3,3)\n",
    "p1_shape=(2,2)"
   ]
  },
  {
   "cell_type": "code",
   "execution_count": 15,
   "id": "f03cbde8",
   "metadata": {},
   "outputs": [],
   "source": [
    "k2_number = 64\n",
    "k2_shape = (3,3)\n",
    "p2_shape=(2,2)"
   ]
  },
  {
   "cell_type": "code",
   "execution_count": 16,
   "id": "f7445ef9",
   "metadata": {},
   "outputs": [],
   "source": [
    "k3_number = 128\n",
    "k3_shape = (3,3)\n",
    "p3_shape=(2,2)"
   ]
  },
  {
   "cell_type": "code",
   "execution_count": 17,
   "id": "c9413b07",
   "metadata": {},
   "outputs": [],
   "source": [
    "model = models.Sequential()"
   ]
  },
  {
   "cell_type": "code",
   "execution_count": 18,
   "id": "a2f6fbfc",
   "metadata": {},
   "outputs": [],
   "source": [
    "model.add(layers.Conv2D(k1_number,kernel_size=k1_shape,\n",
    "                       strides=(1,1),padding='same',\n",
    "                       activation = 'relu', input_shape = sample_shape))"
   ]
  },
  {
   "cell_type": "code",
   "execution_count": 19,
   "id": "1be819ee",
   "metadata": {},
   "outputs": [],
   "source": [
    "model.add(layers.BatchNormalization())\n",
    "model.add(layers.MaxPooling2D(pool_size=p1_shape,strides=(2,2)))"
   ]
  },
  {
   "cell_type": "code",
   "execution_count": 20,
   "id": "fe8f7c5a",
   "metadata": {},
   "outputs": [],
   "source": [
    "model.add(layers.Conv2D(k2_number,kernel_size=k2_shape,\n",
    "                       strides=(1,1),padding='same',\n",
    "                       activation = 'relu'))\n",
    "model.add(layers.BatchNormalization())\n",
    "model.add(layers.MaxPooling2D(pool_size=p2_shape,strides=(2,2)))\n",
    "model.add(layers.Conv2D(k3_number,kernel_size=k3_shape,\n",
    "                       strides=(1,1),padding='same',\n",
    "                       activation = 'relu'))\n",
    "model.add(layers.BatchNormalization())\n",
    "model.add(layers.MaxPooling2D(pool_size=p3_shape,strides=(2,2)))"
   ]
  },
  {
   "cell_type": "code",
   "execution_count": 21,
   "id": "42de35d1",
   "metadata": {},
   "outputs": [],
   "source": [
    "model.add(layers.Flatten())"
   ]
  },
  {
   "cell_type": "code",
   "execution_count": 22,
   "id": "0bcefc6f",
   "metadata": {},
   "outputs": [],
   "source": [
    "model.add(layers.Dense(100,activation='relu'))\n",
    "model.add(layers.BatchNormalization())\n",
    "model.add(layers.Dense(n_class,activation='softmax'))"
   ]
  },
  {
   "cell_type": "code",
   "execution_count": 23,
   "id": "8dfb6caa",
   "metadata": {},
   "outputs": [],
   "source": [
    "from tensorflow import keras\n",
    "\n",
    "\n",
    "optimizer = keras.optimizers.Adam(learning_rate=0.001)\n",
    "model.compile(loss = 'categorical_crossentropy',optimizer = optimizer,\n",
    "             metrics = ['accuracy'])"
   ]
  },
  {
   "cell_type": "code",
   "execution_count": 24,
   "id": "d5e900bb",
   "metadata": {},
   "outputs": [
    {
     "name": "stdout",
     "output_type": "stream",
     "text": [
      "Model: \"sequential\"\n",
      "_________________________________________________________________\n",
      " Layer (type)                Output Shape              Param #   \n",
      "=================================================================\n",
      " conv2d (Conv2D)             (None, 28, 28, 32)        320       \n",
      "                                                                 \n",
      " batch_normalization (BatchN  (None, 28, 28, 32)       128       \n",
      " ormalization)                                                   \n",
      "                                                                 \n",
      " max_pooling2d (MaxPooling2D  (None, 14, 14, 32)       0         \n",
      " )                                                               \n",
      "                                                                 \n",
      " conv2d_1 (Conv2D)           (None, 14, 14, 64)        18496     \n",
      "                                                                 \n",
      " batch_normalization_1 (Batc  (None, 14, 14, 64)       256       \n",
      " hNormalization)                                                 \n",
      "                                                                 \n",
      " max_pooling2d_1 (MaxPooling  (None, 7, 7, 64)         0         \n",
      " 2D)                                                             \n",
      "                                                                 \n",
      " conv2d_2 (Conv2D)           (None, 7, 7, 128)         73856     \n",
      "                                                                 \n",
      " batch_normalization_2 (Batc  (None, 7, 7, 128)        512       \n",
      " hNormalization)                                                 \n",
      "                                                                 \n",
      " max_pooling2d_2 (MaxPooling  (None, 3, 3, 128)        0         \n",
      " 2D)                                                             \n",
      "                                                                 \n",
      " flatten (Flatten)           (None, 1152)              0         \n",
      "                                                                 \n",
      " dense (Dense)               (None, 100)               115300    \n",
      "                                                                 \n",
      " batch_normalization_3 (Batc  (None, 100)              400       \n",
      " hNormalization)                                                 \n",
      "                                                                 \n",
      " dense_1 (Dense)             (None, 10)                1010      \n",
      "                                                                 \n",
      "=================================================================\n",
      "Total params: 210,278\n",
      "Trainable params: 209,630\n",
      "Non-trainable params: 648\n",
      "_________________________________________________________________\n"
     ]
    },
    {
     "data": {
      "text/html": [
       "<div>\n",
       "<style scoped>\n",
       "    .dataframe tbody tr th:only-of-type {\n",
       "        vertical-align: middle;\n",
       "    }\n",
       "\n",
       "    .dataframe tbody tr th {\n",
       "        vertical-align: top;\n",
       "    }\n",
       "\n",
       "    .dataframe thead th {\n",
       "        text-align: right;\n",
       "    }\n",
       "</style>\n",
       "<table border=\"1\" class=\"dataframe\">\n",
       "  <thead>\n",
       "    <tr style=\"text-align: right;\">\n",
       "      <th></th>\n",
       "    </tr>\n",
       "  </thead>\n",
       "  <tbody>\n",
       "  </tbody>\n",
       "</table>\n",
       "</div>"
      ],
      "text/plain": [
       "Empty DataFrame\n",
       "Columns: []\n",
       "Index: []"
      ]
     },
     "execution_count": 24,
     "metadata": {},
     "output_type": "execute_result"
    }
   ],
   "source": [
    "pd.DataFrame(model.summary())"
   ]
  },
  {
   "cell_type": "code",
   "execution_count": 25,
   "id": "68e70380",
   "metadata": {},
   "outputs": [
    {
     "name": "stdout",
     "output_type": "stream",
     "text": [
      "Epoch 1/10\n",
      "938/938 [==============================] - 67s 71ms/step - loss: 0.0861 - accuracy: 0.9739 - val_loss: 0.0496 - val_accuracy: 0.9843\n",
      "Epoch 2/10\n",
      "938/938 [==============================] - 65s 70ms/step - loss: 0.0346 - accuracy: 0.9896 - val_loss: 0.0332 - val_accuracy: 0.9890\n",
      "Epoch 3/10\n",
      "938/938 [==============================] - 65s 69ms/step - loss: 0.0251 - accuracy: 0.9917 - val_loss: 0.0352 - val_accuracy: 0.9893\n",
      "Epoch 4/10\n",
      "938/938 [==============================] - 66s 70ms/step - loss: 0.0183 - accuracy: 0.9940 - val_loss: 0.0285 - val_accuracy: 0.9904\n",
      "Epoch 5/10\n",
      "938/938 [==============================] - 66s 70ms/step - loss: 0.0154 - accuracy: 0.9950 - val_loss: 0.0406 - val_accuracy: 0.9885\n",
      "Epoch 6/10\n",
      "938/938 [==============================] - 67s 71ms/step - loss: 0.0133 - accuracy: 0.9958 - val_loss: 0.0274 - val_accuracy: 0.9910\n",
      "Epoch 7/10\n",
      "938/938 [==============================] - 66s 70ms/step - loss: 0.0114 - accuracy: 0.9963 - val_loss: 0.0355 - val_accuracy: 0.9899\n",
      "Epoch 8/10\n",
      "938/938 [==============================] - 67s 71ms/step - loss: 0.0090 - accuracy: 0.9971 - val_loss: 0.0288 - val_accuracy: 0.9921\n",
      "Epoch 9/10\n",
      "938/938 [==============================] - 67s 71ms/step - loss: 0.0091 - accuracy: 0.9971 - val_loss: 0.0309 - val_accuracy: 0.9920\n",
      "Epoch 10/10\n",
      "938/938 [==============================] - 67s 72ms/step - loss: 0.0075 - accuracy: 0.9977 - val_loss: 0.0251 - val_accuracy: 0.9927\n"
     ]
    }
   ],
   "source": [
    "result = model.fit(X_train,Y_train,epochs = 10,batch_size=64,\n",
    "                  validation_data = (X_test,Y_test))"
   ]
  },
  {
   "cell_type": "code",
   "execution_count": 26,
   "id": "56255762",
   "metadata": {
    "scrolled": true
   },
   "outputs": [
    {
     "data": {
      "text/plain": [
       "<matplotlib.legend.Legend at 0x2a024d81d90>"
      ]
     },
     "execution_count": 26,
     "metadata": {},
     "output_type": "execute_result"
    },
    {
     "data": {
      "image/png": "[encoded data removed]",
      "text/plain": [
       "<Figure size 432x288 with 1 Axes>"
      ]
     },
     "metadata": {
      "needs_background": "light"
     },
     "output_type": "display_data"
    }
   ],
   "source": [
    "plt.plot(result.history['loss'])\n",
    "plt.plot(result.history['val_loss'])\n",
    "plt.xlabel('epoch')\n",
    "plt.ylabel('loss')\n",
    "plt.legend(['train','validation'],loc='upper right')"
   ]
  },
  {
   "cell_type": "code",
   "execution_count": 27,
   "id": "4786826b",
   "metadata": {},
   "outputs": [
    {
     "data": {
      "text/plain": [
       "<matplotlib.legend.Legend at 0x2a024e9c9a0>"
      ]
     },
     "execution_count": 27,
     "metadata": {},
     "output_type": "execute_result"
    },
    {
     "data": {
      "image/png": "[encoded data removed]",
      "text/plain": [
       "<Figure size 432x288 with 1 Axes>"
      ]
     },
     "metadata": {
      "needs_background": "light"
     },
     "output_type": "display_data"
    }
   ],
   "source": [
    "plt.plot(result.history['accuracy'])\n",
    "plt.plot(result.history['val_accuracy'])\n",
    "plt.xlabel('epoch')\n",
    "plt.ylabel('accuracy')\n",
    "plt.legend(['train','validation'],loc='upper right')"
   ]
  },
  {
   "cell_type": "code",
   "execution_count": null,
   "id": "9029cc74",
   "metadata": {},
   "outputs": [],
   "source": []
  },
  {
   "cell_type": "code",
   "execution_count": null,
   "id": "145f61e7",
   "metadata": {},
   "outputs": [],
   "source": []
  },
  {
   "cell_type": "code",
   "execution_count": null,
   "id": "388ba4e6",
   "metadata": {},
   "outputs": [],
   "source": []
  },
  {
   "cell_type": "code",
   "execution_count": null,
   "id": "0ea9362b",
   "metadata": {},
   "outputs": [],
   "source": []
  },
  {
   "cell_type": "code",
   "execution_count": null,
   "id": "d20d5565",
   "metadata": {},
   "outputs": [],
   "source": []
  }
 ],
 "metadata": {
  "kernelspec": {
   "display_name": "Python 3 (ipykernel)",
   "language": "python",
   "name": "python3"
  },
  "language_info": {
   "codemirror_mode": {
    "name": "ipython",
    "version": 3
   },
   "file_extension": ".py",
   "mimetype": "text/x-python",
   "name": "python",
   "nbconvert_exporter": "python",
   "pygments_lexer": "ipython3",
   "version": "3.9.7"
  }
 },
 "nbformat": 4,
 "nbformat_minor": 5
}
